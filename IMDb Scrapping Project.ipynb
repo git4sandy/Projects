{
 "cells": [
  {
   "cell_type": "code",
   "execution_count": 1,
   "id": "801cc6c8",
   "metadata": {},
   "outputs": [
    {
     "name": "stdout",
     "output_type": "stream",
     "text": [
      "['Sheet']\n",
      "['Top 250 Movies']\n"
     ]
    }
   ],
   "source": [
    "import requests, openpyxl\n",
    "from bs4 import BeautifulSoup\n",
    "\n",
    "excel = openpyxl.Workbook()\n",
    "print(excel.sheetnames)\n",
    "sheet = excel.active\n",
    "sheet.title = 'Top 250 Movies'\n",
    "print(excel.sheetnames)\n",
    "sheet.append(['Rank', 'Movie_name', 'Year', 'Ratings'])\n",
    "\n",
    "try:    \n",
    "    source = requests.get('https://www.imdb.com/chart/top/')\n",
    "    source.raise_for_status()\n",
    "        \n",
    "    soup= BeautifulSoup(source.text, 'html.parser')\n",
    "    \n",
    "    movies = soup.find('tbody',class_=\"lister-list\").find_all('tr')\n",
    "#     print(len(movies))\n",
    "    \n",
    "    for movie in movies:\n",
    "        name = movie.find('td', class_=\"titleColumn\").a.text\n",
    "        rank = movie.find('td', class_=\"titleColumn\").get_text(strip= True).split('.')[0]\n",
    "        year = movie.find('td', class_=\"titleColumn\").span.text.strip('()')\n",
    "        rating = movie.find('td', class_=\"ratingColumn imdbRating\").strong.text\n",
    "#         print(rank, name, year, rating)\n",
    "        sheet.append([rank, name, year, rating])\n",
    "        \n",
    "        \n",
    "        \n",
    "except Exception as e:\n",
    "    print(e)\n",
    "\n",
    "excel.save('IMDB Movies Rating.xlsx')"
   ]
  },
  {
   "cell_type": "code",
   "execution_count": null,
   "id": "123ef106",
   "metadata": {},
   "outputs": [],
   "source": []
  },
  {
   "cell_type": "code",
   "execution_count": null,
   "id": "187c186a",
   "metadata": {},
   "outputs": [],
   "source": []
  },
  {
   "cell_type": "code",
   "execution_count": null,
   "id": "353fa995",
   "metadata": {},
   "outputs": [],
   "source": []
  },
  {
   "cell_type": "code",
   "execution_count": null,
   "id": "8d254f7f",
   "metadata": {},
   "outputs": [],
   "source": []
  },
  {
   "cell_type": "code",
   "execution_count": null,
   "id": "f4a43958",
   "metadata": {},
   "outputs": [],
   "source": []
  }
 ],
 "metadata": {
  "kernelspec": {
   "display_name": "Python 3",
   "language": "python",
   "name": "python3"
  },
  "language_info": {
   "codemirror_mode": {
    "name": "ipython",
    "version": 3
   },
   "file_extension": ".py",
   "mimetype": "text/x-python",
   "name": "python",
   "nbconvert_exporter": "python",
   "pygments_lexer": "ipython3",
   "version": "3.8.8"
  }
 },
 "nbformat": 4,
 "nbformat_minor": 5
}
